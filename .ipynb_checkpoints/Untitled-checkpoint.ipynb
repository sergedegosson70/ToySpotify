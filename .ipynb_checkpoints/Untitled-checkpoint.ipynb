{
 "cells": [
  {
   "cell_type": "code",
   "execution_count": 77,
   "metadata": {},
   "outputs": [
    {
     "ename": "LoadError",
     "evalue": "ArgumentError: hasproperty of NULL PyObject",
     "output_type": "error",
     "traceback": [
      "ArgumentError: hasproperty of NULL PyObject",
      "",
      "Stacktrace:",
      " [1] pyhasproperty(::PyCall.PyObject, ::String) at C:\\Users\\k_sego\\.julia\\packages\\PyCall\\BcTLp\\src\\PyCall.jl:359",
      " [2] hasproperty at C:\\Users\\k_sego\\.julia\\packages\\PyCall\\BcTLp\\src\\PyCall.jl:365 [inlined]",
      " [3] gca(; kws::Base.Iterators.Pairs{Symbol,String,Tuple{Symbol},NamedTuple{(:projection,),Tuple{String}}}) at C:\\Users\\k_sego\\.julia\\packages\\PyPlot\\XHEG0\\src\\PyPlot.jl:174",
      " [4] plot_trisurf(::Array{Float16,1}, ::Vararg{Array{Float16,1},N} where N; kws::Base.Iterators.Pairs{Union{},Union{},Tuple{},NamedTuple{(),Tuple{}}}) at C:\\Users\\k_sego\\.julia\\packages\\PyPlot\\XHEG0\\src\\plot3d.jl:61",
      " [5] plot_trisurf at C:\\Users\\k_sego\\.julia\\packages\\PyPlot\\XHEG0\\src\\plot3d.jl:60 [inlined]",
      " [6] #surf#188 at C:\\Users\\k_sego\\.julia\\packages\\PyPlot\\XHEG0\\src\\plot3d.jl:94 [inlined]",
      " [7] surf(::Array{Float16,1}, ::Array{Float16,1}, ::Array{Float16,1}) at C:\\Users\\k_sego\\.julia\\packages\\PyPlot\\XHEG0\\src\\plot3d.jl:94",
      " [8] top-level scope at In[77]:6",
      " [9] include_string(::Function, ::Module, ::String, ::String) at .\\loading.jl:1091"
     ]
    }
   ],
   "source": [
    "\n",
    "using PyPlot;\n",
    "x = collect(Float16, range(-2,length=100,stop=2));\n",
    "y = collect(Float16, range(sqrt(2),length=100, stop=2));\n",
    "z = (x.*y).-y.-x.+1;\n",
    "surf(x,y,z);\n",
    "PyPlot.display_figs()"
   ]
  },
  {
   "cell_type": "code",
   "execution_count": 22,
   "metadata": {},
   "outputs": [
    {
     "ename": "LoadError",
     "evalue": "Couldn't process recipe args: (typeof(f), Int64, Int64, Int64, Int64)",
     "output_type": "error",
     "traceback": [
      "Couldn't process recipe args: (typeof(f), Int64, Int64, Int64, Int64)",
      "",
      "Stacktrace:",
      " [1] error(::String) at .\\error.jl:33",
      " [2] macro expansion at C:\\Users\\k_sego\\.julia\\packages\\RecipesPipeline\\uPBKQ\\src\\user_recipe.jl:172 [inlined]",
      " [3] apply_recipe(::AbstractDict{Symbol,Any}, ::Any, ::Any, ::Any, ::Any, ::Any) at C:\\Users\\k_sego\\.julia\\packages\\RecipesBase\\92zOw\\src\\RecipesBase.jl:282",
      " [4] _process_userrecipes!(::Any, ::Any, ::Any) at C:\\Users\\k_sego\\.julia\\packages\\RecipesPipeline\\uPBKQ\\src\\user_recipe.jl:36",
      " [5] recipe_pipeline!(::Any, ::Any, ::Any) at C:\\Users\\k_sego\\.julia\\packages\\RecipesPipeline\\uPBKQ\\src\\RecipesPipeline.jl:70",
      " [6] _plot!(::Plots.Plot, ::Any, ::Any) at C:\\Users\\k_sego\\.julia\\packages\\Plots\\vsE7b\\src\\plot.jl:172",
      " [7] plot(::Any, ::Vararg{Any,N} where N; kw::Any) at C:\\Users\\k_sego\\.julia\\packages\\Plots\\vsE7b\\src\\plot.jl:58",
      " [8] top-level scope at In[22]:1",
      " [9] include_string(::Function, ::Module, ::String, ::String) at .\\loading.jl:1091"
     ]
    }
   ],
   "source": [
    "\n"
   ]
  },
  {
   "cell_type": "code",
   "execution_count": 53,
   "metadata": {},
   "outputs": [
    {
     "ename": "LoadError",
     "evalue": "ArgumentError: hasproperty of NULL PyObject",
     "output_type": "error",
     "traceback": [
      "ArgumentError: hasproperty of NULL PyObject",
      "",
      "Stacktrace:",
      " [1] pyhasproperty(::PyCall.PyObject, ::String) at C:\\Users\\k_sego\\.julia\\packages\\PyCall\\BcTLp\\src\\PyCall.jl:359",
      " [2] hasproperty at C:\\Users\\k_sego\\.julia\\packages\\PyCall\\BcTLp\\src\\PyCall.jl:365 [inlined]",
      " [3] ioff(; kws::Base.Iterators.Pairs{Union{},Union{},Tuple{},NamedTuple{(),Tuple{}}}) at C:\\Users\\k_sego\\.julia\\packages\\PyPlot\\XHEG0\\src\\PyPlot.jl:174",
      " [4] ioff() at C:\\Users\\k_sego\\.julia\\packages\\PyPlot\\XHEG0\\src\\PyPlot.jl:174",
      " [5] top-level scope at C:\\Users\\k_sego\\.julia\\packages\\Plots\\vsE7b\\src\\backends.jl:510",
      " [6] eval at .\\boot.jl:331 [inlined]",
      " [7] _initialize_backend(::Plots.PyPlotBackend) at C:\\Users\\k_sego\\.julia\\packages\\Plots\\vsE7b\\src\\backends.jl:504",
      " [8] backend at C:\\Users\\k_sego\\.julia\\packages\\Plots\\vsE7b\\src\\backends.jl:174 [inlined]",
      " [9] pyplot(; kw::Base.Iterators.Pairs{Union{},Union{},Tuple{},NamedTuple{(),Tuple{}}}) at C:\\Users\\k_sego\\.julia\\packages\\Plots\\vsE7b\\src\\backends.jl:31",
      " [10] pyplot() at C:\\Users\\k_sego\\.julia\\packages\\Plots\\vsE7b\\src\\backends.jl:31",
      " [11] top-level scope at In[53]:1",
      " [12] include_string(::Function, ::Module, ::String, ::String) at .\\loading.jl:1091"
     ]
    }
   ],
   "source": [
    "using Plots; pyplot()\n",
    "Plots.plot(1:3, 1:3, z=1:3, l=:scatter3d)"
   ]
  },
  {
   "cell_type": "code",
   "execution_count": 47,
   "metadata": {},
   "outputs": [
    {
     "name": "stderr",
     "output_type": "stream",
     "text": [
      "┌ Info: Precompiling Distributions [31c24e10-a181-5473-b8eb-7969acd0382f]\n",
      "└ @ Base loading.jl:1278\n"
     ]
    },
    {
     "ename": "LoadError",
     "evalue": "UndefVarError: linspace not defined",
     "output_type": "error",
     "traceback": [
      "UndefVarError: linspace not defined",
      "",
      "Stacktrace:",
      " [1] top-level scope at In[47]:10",
      " [2] include_string(::Function, ::Module, ::String, ::String) at .\\loading.jl:1091"
     ]
    }
   ],
   "source": [
    "using PyPlot\n",
    "using Distributions\n",
    "\n",
    "function f(x)\n",
    "    return (x[1]^2 + x[2]^2)\n",
    "    #return sin(x[1]) + cos(x[2])\n",
    "end\n",
    "\n",
    "n = 100\n",
    "x = linspace(-1, 1, n)\n",
    "y = linspace(-1,1,n)\n",
    "\n",
    "xgrid = repmat(x',n,1)\n",
    "ygrid = repmat(y,1,n)\n",
    "\n",
    "z = zeros(n,n)\n",
    "\n",
    "for i in 1:n\n",
    "    for j in 1:n\n",
    "        z[i:i,j:j] = f([x[i],y[j]])\n",
    "    end\n",
    "end\n",
    "\n",
    "plot_wireframe(xgrid,ygrid,z)\n",
    "\n",
    "## new line\n",
    "plot([0.0, 1.0, -1.0], [0.0, 1.0, 1.0], [0.0 , 2.0, 2.0], color=\"red\")"
   ]
  },
  {
   "cell_type": "code",
   "execution_count": 54,
   "metadata": {},
   "outputs": [],
   "source": [
    "using Plots\n",
    "using LinearAlgebra, ForwardDiff\n",
    "import PyPlot\n",
    "import Contour: contours, levels, level, lines, coordinates"
   ]
  },
  {
   "cell_type": "code",
   "execution_count": 55,
   "metadata": {},
   "outputs": [
    {
     "data": {
      "text/plain": [
       "arrow! (generic function with 1 method)"
      ]
     },
     "execution_count": 55,
     "metadata": {},
     "output_type": "execute_result"
    }
   ],
   "source": [
    "xs_ys(vs) = Tuple(eltype(vs[1])[vs[i][j] for i in 1:length(vs)] for j in eachindex(first(vs)))\n",
    "xs_ys(v,vs...) = xs_ys([v, vs...])\n",
    "xs_ys(r::Function, a, b, n=100) = xs_ys(r.(range(a, stop=b, length=n)))\n",
    "\n",
    "function arrow!(p, v; kwargs...)\n",
    "  if length(p) == 2\n",
    "     quiver!(xs_ys([p])..., quiver=Tuple(xs_ys([v])); kwargs...)\n",
    "  elseif length(p) == 3\n",
    "    # 3d quiver needs support\n",
    "    # https://github.com/JuliaPlots/Plots.jl/issues/319#issue-159652535\n",
    "    # headless arrow instead\n",
    "    plot!(xs_ys(p, p+v)...; kwargs...)\n",
    "\tend\n",
    "end"
   ]
  },
  {
   "cell_type": "code",
   "execution_count": 56,
   "metadata": {},
   "outputs": [],
   "source": [
    "using ForwardDiff\n",
    "function D(f, n::Int=1)\n",
    "    n < 0 && throw(ArgumentError(\"n is a non-negative integer\"))\n",
    "    n == 0 && return f\n",
    "    n == 1 && return t -> ForwardDiff.derivative(f, float(t))\n",
    "    D(D(f), n-1)\n",
    "end\n",
    "Base.adjoint(r::Function) = D(r)"
   ]
  },
  {
   "cell_type": "code",
   "execution_count": 57,
   "metadata": {},
   "outputs": [],
   "source": [
    "import Contour: contours, levels, lines, coordinates\n"
   ]
  },
  {
   "cell_type": "code",
   "execution_count": 58,
   "metadata": {},
   "outputs": [],
   "source": [
    "using LinearAlgebra\n"
   ]
  },
  {
   "cell_type": "code",
   "execution_count": 59,
   "metadata": {},
   "outputs": [
    {
     "data": {
      "text/plain": [
       "0.0:1.5707963267948966:6.283185307179586"
      ]
     },
     "execution_count": 59,
     "metadata": {},
     "output_type": "execute_result"
    }
   ],
   "source": [
    "r(t) = [sin(t), 2cos(t)]\n",
    "ts = range(0, stop=2pi, length=5)\n"
   ]
  },
  {
   "cell_type": "code",
   "execution_count": 60,
   "metadata": {},
   "outputs": [
    {
     "data": {
      "text/plain": [
       "5-element Array{Array{Float64,1},1}:\n",
       " [0.0, 2.0]\n",
       " [1.0, 1.2246467991473532e-16]\n",
       " [1.2246467991473532e-16, -2.0]\n",
       " [-1.0, -3.6739403974420594e-16]\n",
       " [-2.4492935982947064e-16, 2.0]"
      ]
     },
     "execution_count": 60,
     "metadata": {},
     "output_type": "execute_result"
    }
   ],
   "source": [
    "vs = r.(ts)"
   ]
  },
  {
   "cell_type": "code",
   "execution_count": 61,
   "metadata": {},
   "outputs": [
    {
     "data": {
      "text/plain": [
       "([0.0, 1.0, 1.2246467991473532e-16, -1.0, -2.4492935982947064e-16], [2.0, 1.2246467991473532e-16, -2.0, -3.6739403974420594e-16, 2.0])"
      ]
     },
     "execution_count": 61,
     "metadata": {},
     "output_type": "execute_result"
    }
   ],
   "source": [
    "xs_ys(vs)"
   ]
  },
  {
   "cell_type": "code",
   "execution_count": 63,
   "metadata": {},
   "outputs": [
    {
     "data": {
      "image/svg+xml": [
       "<?xml version=\"1.0\" encoding=\"utf-8\"?>\n",
       "<svg xmlns=\"http://www.w3.org/2000/svg\" xmlns:xlink=\"http://www.w3.org/1999/xlink\" width=\"425\" height=\"425\" viewBox=\"0 0 1700 1700\">\n",
       "<defs>\n",
       "  <clipPath id=\"clip940\">\n",
       "    <rect x=\"0\" y=\"0\" width=\"1700\" height=\"1700\"/>\n",
       "  </clipPath>\n",
       "</defs>\n",
       "<path clip-path=\"url(#clip940)\" d=\"\n",
       "M0 1700 L1700 1700 L1700 0 L0 0  Z\n",
       "  \" fill=\"#ffffff\" fill-rule=\"evenodd\" fill-opacity=\"1\"/>\n",
       "<defs>\n",
       "  <clipPath id=\"clip941\">\n",
       "    <rect x=\"340\" y=\"170\" width=\"1191\" height=\"1191\"/>\n",
       "  </clipPath>\n",
       "</defs>\n",
       "<path clip-path=\"url(#clip940)\" d=\"\n",
       "M46.6137 1654.29 L1688.19 1654.29 L1688.19 11.811 L46.6137 11.811  Z\n",
       "  \" fill=\"#ffffff\" fill-rule=\"evenodd\" fill-opacity=\"1\"/>\n",
       "<defs>\n",
       "  <clipPath id=\"clip942\">\n",
       "    <rect x=\"46\" y=\"11\" width=\"1643\" height=\"1643\"/>\n",
       "  </clipPath>\n",
       "</defs>\n",
       "<polyline clip-path=\"url(#clip942)\" style=\"stroke:#000000; stroke-width:0.5; stroke-opacity:0.1; fill:none\" points=\"\n",
       "  93.0734,1654.29 93.0734,11.811 \n",
       "  \"/>\n",
       "<polyline clip-path=\"url(#clip942)\" style=\"stroke:#000000; stroke-width:0.5; stroke-opacity:0.1; fill:none\" points=\"\n",
       "  480.237,1654.29 480.237,11.811 \n",
       "  \"/>\n",
       "<polyline clip-path=\"url(#clip942)\" style=\"stroke:#000000; stroke-width:0.5; stroke-opacity:0.1; fill:none\" points=\"\n",
       "  867.401,1654.29 867.401,11.811 \n",
       "  \"/>\n",
       "<polyline clip-path=\"url(#clip942)\" style=\"stroke:#000000; stroke-width:0.5; stroke-opacity:0.1; fill:none\" points=\"\n",
       "  1254.57,1654.29 1254.57,11.811 \n",
       "  \"/>\n",
       "<polyline clip-path=\"url(#clip942)\" style=\"stroke:#000000; stroke-width:0.5; stroke-opacity:0.1; fill:none\" points=\"\n",
       "  1641.73,1654.29 1641.73,11.811 \n",
       "  \"/>\n",
       "<polyline clip-path=\"url(#clip940)\" style=\"stroke:#000000; stroke-width:1; stroke-opacity:1; fill:none\" points=\"\n",
       "  46.6137,1654.29 1688.19,1654.29 \n",
       "  \"/>\n",
       "<polyline clip-path=\"url(#clip940)\" style=\"stroke:#000000; stroke-width:1; stroke-opacity:1; fill:none\" points=\"\n",
       "  93.0734,1654.29 93.0734,1634.58 \n",
       "  \"/>\n",
       "<polyline clip-path=\"url(#clip940)\" style=\"stroke:#000000; stroke-width:1; stroke-opacity:1; fill:none\" points=\"\n",
       "  480.237,1654.29 480.237,1634.58 \n",
       "  \"/>\n",
       "<polyline clip-path=\"url(#clip940)\" style=\"stroke:#000000; stroke-width:1; stroke-opacity:1; fill:none\" points=\"\n",
       "  867.401,1654.29 867.401,1634.58 \n",
       "  \"/>\n",
       "<polyline clip-path=\"url(#clip940)\" style=\"stroke:#000000; stroke-width:1; stroke-opacity:1; fill:none\" points=\"\n",
       "  1254.57,1654.29 1254.57,1634.58 \n",
       "  \"/>\n",
       "<polyline clip-path=\"url(#clip940)\" style=\"stroke:#000000; stroke-width:1; stroke-opacity:1; fill:none\" points=\"\n",
       "  1641.73,1654.29 1641.73,1634.58 \n",
       "  \"/>\n",
       "<path clip-path=\"url(#clip940)\" d=\"M 0 0 M81.5196 1674.05 L88.9386 1674.05 L88.9386 1675.04 L81.5196 1675.04 L81.5196 1674.05 Z\" fill=\"#000000\" fill-rule=\"evenodd\" fill-opacity=\"1\" /><path clip-path=\"url(#clip940)\" d=\"M 0 0 M90.4085 1677.28 L92.3182 1677.28 L92.3182 1670.68 L90.2406 1671.1 L90.2406 1670.04 L92.3066 1669.62 L93.4756 1669.62 L93.4756 1677.28 L95.3853 1677.28 L95.3853 1678.26 L90.4085 1678.26 L90.4085 1677.28 Z\" fill=\"#000000\" fill-rule=\"evenodd\" fill-opacity=\"1\" /><path clip-path=\"url(#clip940)\" d=\"M 0 0 M96.6526 1676.79 L97.8737 1676.79 L97.8737 1678.26 L96.6526 1678.26 L96.6526 1676.79 Z\" fill=\"#000000\" fill-rule=\"evenodd\" fill-opacity=\"1\" /><path clip-path=\"url(#clip940)\" d=\"M 0 0 M101.641 1670.39 Q100.738 1670.39 100.281 1671.28 Q99.8297 1672.17 99.8297 1673.95 Q99.8297 1675.73 100.281 1676.62 Q100.738 1677.5 101.641 1677.5 Q102.55 1677.5 103.001 1676.62 Q103.458 1675.73 103.458 1673.95 Q103.458 1672.17 103.001 1671.28 Q102.55 1670.39 101.641 1670.39 M101.641 1669.46 Q103.094 1669.46 103.857 1670.62 Q104.627 1671.76 104.627 1673.95 Q104.627 1676.13 103.857 1677.28 Q103.094 1678.43 101.641 1678.43 Q100.188 1678.43 99.4188 1677.28 Q98.6549 1676.13 98.6549 1673.95 Q98.6549 1671.76 99.4188 1670.62 Q100.188 1669.46 101.641 1669.46 Z\" fill=\"#000000\" fill-rule=\"evenodd\" fill-opacity=\"1\" /><path clip-path=\"url(#clip940)\" d=\"M 0 0 M468.655 1674.05 L476.074 1674.05 L476.074 1675.04 L468.655 1675.04 L468.655 1674.05 Z\" fill=\"#000000\" fill-rule=\"evenodd\" fill-opacity=\"1\" /><path clip-path=\"url(#clip940)\" d=\"M 0 0 M479.841 1670.39 Q478.938 1670.39 478.481 1671.28 Q478.03 1672.17 478.03 1673.95 Q478.03 1675.73 478.481 1676.62 Q478.938 1677.5 479.841 1677.5 Q480.75 1677.5 481.201 1676.62 Q481.658 1675.73 481.658 1673.95 Q481.658 1672.17 481.201 1671.28 Q480.75 1670.39 479.841 1670.39 M479.841 1669.46 Q481.293 1669.46 482.057 1670.62 Q482.827 1671.76 482.827 1673.95 Q482.827 1676.13 482.057 1677.28 Q481.293 1678.43 479.841 1678.43 Q478.388 1678.43 477.619 1677.28 Q476.855 1676.13 476.855 1673.95 Q476.855 1671.76 477.619 1670.62 Q478.388 1669.46 479.841 1669.46 Z\" fill=\"#000000\" fill-rule=\"evenodd\" fill-opacity=\"1\" /><path clip-path=\"url(#clip940)\" d=\"M 0 0 M484.094 1676.79 L485.315 1676.79 L485.315 1678.26 L484.094 1678.26 L484.094 1676.79 Z\" fill=\"#000000\" fill-rule=\"evenodd\" fill-opacity=\"1\" /><path clip-path=\"url(#clip940)\" d=\"M 0 0 M486.594 1669.62 L491.183 1669.62 L491.183 1670.6 L487.665 1670.6 L487.665 1672.72 Q487.92 1672.63 488.174 1672.59 Q488.429 1672.55 488.683 1672.55 Q490.13 1672.55 490.975 1673.34 Q491.82 1674.13 491.82 1675.49 Q491.82 1676.88 490.952 1677.66 Q490.084 1678.43 488.504 1678.43 Q487.96 1678.43 487.393 1678.34 Q486.832 1678.24 486.23 1678.06 L486.23 1676.88 Q486.751 1677.17 487.306 1677.31 Q487.862 1677.44 488.481 1677.44 Q489.482 1677.44 490.067 1676.92 Q490.651 1676.39 490.651 1675.49 Q490.651 1674.59 490.067 1674.06 Q489.482 1673.53 488.481 1673.53 Q488.012 1673.53 487.543 1673.64 Q487.08 1673.74 486.594 1673.96 L486.594 1669.62 Z\" fill=\"#000000\" fill-rule=\"evenodd\" fill-opacity=\"1\" /><path clip-path=\"url(#clip940)\" d=\"M 0 0 M862.78 1670.39 Q861.878 1670.39 861.42 1671.28 Q860.969 1672.17 860.969 1673.95 Q860.969 1675.73 861.42 1676.62 Q861.878 1677.5 862.78 1677.5 Q863.689 1677.5 864.14 1676.62 Q864.598 1675.73 864.598 1673.95 Q864.598 1672.17 864.14 1671.28 Q863.689 1670.39 862.78 1670.39 M862.78 1669.46 Q864.233 1669.46 864.997 1670.62 Q865.767 1671.76 865.767 1673.95 Q865.767 1676.13 864.997 1677.28 Q864.233 1678.43 862.78 1678.43 Q861.328 1678.43 860.558 1677.28 Q859.794 1676.13 859.794 1673.95 Q859.794 1671.76 860.558 1670.62 Q861.328 1669.46 862.78 1669.46 Z\" fill=\"#000000\" fill-rule=\"evenodd\" fill-opacity=\"1\" /><path clip-path=\"url(#clip940)\" d=\"M 0 0 M867.034 1676.79 L868.255 1676.79 L868.255 1678.26 L867.034 1678.26 L867.034 1676.79 Z\" fill=\"#000000\" fill-rule=\"evenodd\" fill-opacity=\"1\" /><path clip-path=\"url(#clip940)\" d=\"M 0 0 M872.022 1670.39 Q871.119 1670.39 870.662 1671.28 Q870.211 1672.17 870.211 1673.95 Q870.211 1675.73 870.662 1676.62 Q871.119 1677.5 872.022 1677.5 Q872.931 1677.5 873.382 1676.62 Q873.839 1675.73 873.839 1673.95 Q873.839 1672.17 873.382 1671.28 Q872.931 1670.39 872.022 1670.39 M872.022 1669.46 Q873.475 1669.46 874.239 1670.62 Q875.008 1671.76 875.008 1673.95 Q875.008 1676.13 874.239 1677.28 Q873.475 1678.43 872.022 1678.43 Q870.57 1678.43 869.8 1677.28 Q869.036 1676.13 869.036 1673.95 Q869.036 1671.76 869.8 1670.62 Q870.57 1669.46 872.022 1669.46 Z\" fill=\"#000000\" fill-rule=\"evenodd\" fill-opacity=\"1\" /><path clip-path=\"url(#clip940)\" d=\"M 0 0 M1250.07 1670.39 Q1249.17 1670.39 1248.71 1671.28 Q1248.26 1672.17 1248.26 1673.95 Q1248.26 1675.73 1248.71 1676.62 Q1249.17 1677.5 1250.07 1677.5 Q1250.98 1677.5 1251.43 1676.62 Q1251.89 1675.73 1251.89 1673.95 Q1251.89 1672.17 1251.43 1671.28 Q1250.98 1670.39 1250.07 1670.39 M1250.07 1669.46 Q1251.52 1669.46 1252.29 1670.62 Q1253.05 1671.76 1253.05 1673.95 Q1253.05 1676.13 1252.29 1677.28 Q1251.52 1678.43 1250.07 1678.43 Q1248.62 1678.43 1247.85 1677.28 Q1247.08 1676.13 1247.08 1673.95 Q1247.08 1671.76 1247.85 1670.62 Q1248.62 1669.46 1250.07 1669.46 Z\" fill=\"#000000\" fill-rule=\"evenodd\" fill-opacity=\"1\" /><path clip-path=\"url(#clip940)\" d=\"M 0 0 M1254.32 1676.79 L1255.54 1676.79 L1255.54 1678.26 L1254.32 1678.26 L1254.32 1676.79 Z\" fill=\"#000000\" fill-rule=\"evenodd\" fill-opacity=\"1\" /><path clip-path=\"url(#clip940)\" d=\"M 0 0 M1256.82 1669.62 L1261.41 1669.62 L1261.41 1670.6 L1257.89 1670.6 L1257.89 1672.72 Q1258.15 1672.63 1258.4 1672.59 Q1258.66 1672.55 1258.91 1672.55 Q1260.36 1672.55 1261.2 1673.34 Q1262.05 1674.13 1262.05 1675.49 Q1262.05 1676.88 1261.18 1677.66 Q1260.31 1678.43 1258.73 1678.43 Q1258.19 1678.43 1257.62 1678.34 Q1257.06 1678.24 1256.46 1678.06 L1256.46 1676.88 Q1256.98 1677.17 1257.53 1677.31 Q1258.09 1677.44 1258.71 1677.44 Q1259.71 1677.44 1260.29 1676.92 Q1260.88 1676.39 1260.88 1675.49 Q1260.88 1674.59 1260.29 1674.06 Q1259.71 1673.53 1258.71 1673.53 Q1258.24 1673.53 1257.77 1673.64 Q1257.31 1673.74 1256.82 1673.96 L1256.82 1669.62 Z\" fill=\"#000000\" fill-rule=\"evenodd\" fill-opacity=\"1\" /><path clip-path=\"url(#clip940)\" d=\"M 0 0 M1634.7 1677.28 L1636.61 1677.28 L1636.61 1670.68 L1634.54 1671.1 L1634.54 1670.04 L1636.6 1669.62 L1637.77 1669.62 L1637.77 1677.28 L1639.68 1677.28 L1639.68 1678.26 L1634.7 1678.26 L1634.7 1677.28 Z\" fill=\"#000000\" fill-rule=\"evenodd\" fill-opacity=\"1\" /><path clip-path=\"url(#clip940)\" d=\"M 0 0 M1640.95 1676.79 L1642.17 1676.79 L1642.17 1678.26 L1640.95 1678.26 L1640.95 1676.79 Z\" fill=\"#000000\" fill-rule=\"evenodd\" fill-opacity=\"1\" /><path clip-path=\"url(#clip940)\" d=\"M 0 0 M1645.94 1670.39 Q1645.03 1670.39 1644.58 1671.28 Q1644.13 1672.17 1644.13 1673.95 Q1644.13 1675.73 1644.58 1676.62 Q1645.03 1677.5 1645.94 1677.5 Q1646.85 1677.5 1647.3 1676.62 Q1647.75 1675.73 1647.75 1673.95 Q1647.75 1672.17 1647.3 1671.28 Q1646.85 1670.39 1645.94 1670.39 M1645.94 1669.46 Q1647.39 1669.46 1648.15 1670.62 Q1648.92 1671.76 1648.92 1673.95 Q1648.92 1676.13 1648.15 1677.28 Q1647.39 1678.43 1645.94 1678.43 Q1644.48 1678.43 1643.71 1677.28 Q1642.95 1676.13 1642.95 1673.95 Q1642.95 1671.76 1643.71 1670.62 Q1644.48 1669.46 1645.94 1669.46 Z\" fill=\"#000000\" fill-rule=\"evenodd\" fill-opacity=\"1\" /><polyline clip-path=\"url(#clip942)\" style=\"stroke:#000000; stroke-width:0.5; stroke-opacity:0.1; fill:none\" points=\"\n",
       "  46.6137,1607.81 1688.19,1607.81 \n",
       "  \"/>\n",
       "<polyline clip-path=\"url(#clip942)\" style=\"stroke:#000000; stroke-width:0.5; stroke-opacity:0.1; fill:none\" points=\"\n",
       "  46.6137,1220.43 1688.19,1220.43 \n",
       "  \"/>\n",
       "<polyline clip-path=\"url(#clip942)\" style=\"stroke:#000000; stroke-width:0.5; stroke-opacity:0.1; fill:none\" points=\"\n",
       "  46.6137,833.051 1688.19,833.051 \n",
       "  \"/>\n",
       "<polyline clip-path=\"url(#clip942)\" style=\"stroke:#000000; stroke-width:0.5; stroke-opacity:0.1; fill:none\" points=\"\n",
       "  46.6137,445.674 1688.19,445.674 \n",
       "  \"/>\n",
       "<polyline clip-path=\"url(#clip942)\" style=\"stroke:#000000; stroke-width:0.5; stroke-opacity:0.1; fill:none\" points=\"\n",
       "  46.6137,58.2963 1688.19,58.2963 \n",
       "  \"/>\n",
       "<polyline clip-path=\"url(#clip940)\" style=\"stroke:#000000; stroke-width:1; stroke-opacity:1; fill:none\" points=\"\n",
       "  46.6137,1654.29 46.6137,11.811 \n",
       "  \"/>\n",
       "<polyline clip-path=\"url(#clip940)\" style=\"stroke:#000000; stroke-width:1; stroke-opacity:1; fill:none\" points=\"\n",
       "  46.6137,1607.81 66.3126,1607.81 \n",
       "  \"/>\n",
       "<polyline clip-path=\"url(#clip940)\" style=\"stroke:#000000; stroke-width:1; stroke-opacity:1; fill:none\" points=\"\n",
       "  46.6137,1220.43 66.3126,1220.43 \n",
       "  \"/>\n",
       "<polyline clip-path=\"url(#clip940)\" style=\"stroke:#000000; stroke-width:1; stroke-opacity:1; fill:none\" points=\"\n",
       "  46.6137,833.051 66.3126,833.051 \n",
       "  \"/>\n",
       "<polyline clip-path=\"url(#clip940)\" style=\"stroke:#000000; stroke-width:1; stroke-opacity:1; fill:none\" points=\"\n",
       "  46.6137,445.674 66.3126,445.674 \n",
       "  \"/>\n",
       "<polyline clip-path=\"url(#clip940)\" style=\"stroke:#000000; stroke-width:1; stroke-opacity:1; fill:none\" points=\"\n",
       "  46.6137,58.2963 66.3126,58.2963 \n",
       "  \"/>\n",
       "<path clip-path=\"url(#clip940)\" d=\"M 0 0 M7.34062 1607.92 L14.7596 1607.92 L14.7596 1608.9 L7.34062 1608.9 L7.34062 1607.92 Z\" fill=\"#000000\" fill-rule=\"evenodd\" fill-opacity=\"1\" /><path clip-path=\"url(#clip940)\" d=\"M 0 0 M17.0339 1611.14 L21.1137 1611.14 L21.1137 1612.13 L15.6276 1612.13 L15.6276 1611.14 Q16.2931 1610.45 17.4389 1609.3 Q18.5906 1608.13 18.8857 1607.8 Q19.447 1607.17 19.6669 1606.73 Q19.8926 1606.29 19.8926 1605.87 Q19.8926 1605.18 19.4065 1604.75 Q18.9262 1604.31 18.1508 1604.31 Q17.601 1604.31 16.9876 1604.51 Q16.3799 1604.7 15.6855 1605.08 L15.6855 1603.9 Q16.3915 1603.62 17.0049 1603.48 Q17.6183 1603.33 18.1276 1603.33 Q19.4702 1603.33 20.2688 1604 Q21.0674 1604.67 21.0674 1605.8 Q21.0674 1606.33 20.8649 1606.81 Q20.6681 1607.28 20.1415 1607.93 Q19.9968 1608.1 19.2213 1608.9 Q18.4459 1609.7 17.0339 1611.14 Z\" fill=\"#000000\" fill-rule=\"evenodd\" fill-opacity=\"1\" /><path clip-path=\"url(#clip940)\" d=\"M 0 0 M7.24803 1220.54 L14.667 1220.54 L14.667 1221.53 L7.24803 1221.53 L7.24803 1220.54 Z\" fill=\"#000000\" fill-rule=\"evenodd\" fill-opacity=\"1\" /><path clip-path=\"url(#clip940)\" d=\"M 0 0 M16.1369 1223.77 L18.0466 1223.77 L18.0466 1217.17 L15.969 1217.59 L15.969 1216.53 L18.035 1216.11 L19.204 1216.11 L19.204 1223.77 L21.1137 1223.77 L21.1137 1224.75 L16.1369 1224.75 L16.1369 1223.77 Z\" fill=\"#000000\" fill-rule=\"evenodd\" fill-opacity=\"1\" /><path clip-path=\"url(#clip940)\" d=\"M 0 0 M18.1276 829.501 Q17.2248 829.501 16.7677 830.392 Q16.3163 831.278 16.3163 833.06 Q16.3163 834.837 16.7677 835.728 Q17.2248 836.613 18.1276 836.613 Q19.0362 836.613 19.4875 835.728 Q19.9447 834.837 19.9447 833.06 Q19.9447 831.278 19.4875 830.392 Q19.0362 829.501 18.1276 829.501 M18.1276 828.575 Q19.5801 828.575 20.344 829.727 Q21.1137 830.873 21.1137 833.06 Q21.1137 835.242 20.344 836.393 Q19.5801 837.539 18.1276 837.539 Q16.6751 837.539 15.9054 836.393 Q15.1415 835.242 15.1415 833.06 Q15.1415 830.873 15.9054 829.727 Q16.6751 828.575 18.1276 828.575 Z\" fill=\"#000000\" fill-rule=\"evenodd\" fill-opacity=\"1\" /><path clip-path=\"url(#clip940)\" d=\"M 0 0 M16.1369 449.01 L18.0466 449.01 L18.0466 442.419 L15.969 442.835 L15.969 441.771 L18.035 441.354 L19.204 441.354 L19.204 449.01 L21.1137 449.01 L21.1137 449.994 L16.1369 449.994 L16.1369 449.01 Z\" fill=\"#000000\" fill-rule=\"evenodd\" fill-opacity=\"1\" /><path clip-path=\"url(#clip940)\" d=\"M 0 0 M17.0339 61.6325 L21.1137 61.6325 L21.1137 62.6163 L15.6276 62.6163 L15.6276 61.6325 Q16.2931 60.9439 17.4389 59.7865 Q18.5906 58.6233 18.8857 58.2877 Q19.447 57.6569 19.6669 57.2228 Q19.8926 56.783 19.8926 56.3606 Q19.8926 55.6719 19.4065 55.2379 Q18.9262 54.8039 18.1508 54.8039 Q17.601 54.8039 16.9876 54.9948 Q16.3799 55.1858 15.6855 55.5735 L15.6855 54.393 Q16.3915 54.1094 17.0049 53.9648 Q17.6183 53.8201 18.1276 53.8201 Q19.4702 53.8201 20.2688 54.4914 Q21.0674 55.1627 21.0674 56.2853 Q21.0674 56.8178 20.8649 57.2981 Q20.6681 57.7726 20.1415 58.4208 Q19.9968 58.5886 19.2213 59.393 Q18.4459 60.1916 17.0339 61.6325 Z\" fill=\"#000000\" fill-rule=\"evenodd\" fill-opacity=\"1\" /><polyline clip-path=\"url(#clip942)\" style=\"stroke:#009af9; stroke-width:1; stroke-opacity:1; fill:none\" points=\"\n",
       "  867.401,58.2963 1641.73,833.051 867.401,1607.81 93.0734,833.051 867.401,58.2963 \n",
       "  \"/>\n",
       "<path clip-path=\"url(#clip940)\" d=\"\n",
       "M1438.32 96.8004 L1633.47 96.8004 L1633.47 66.5604 L1438.32 66.5604  Z\n",
       "  \" fill=\"#ffffff\" fill-rule=\"evenodd\" fill-opacity=\"1\"/>\n",
       "<polyline clip-path=\"url(#clip940)\" style=\"stroke:#000000; stroke-width:1; stroke-opacity:1; fill:none\" points=\"\n",
       "  1438.32,96.8004 1633.47,96.8004 1633.47,66.5604 1438.32,66.5604 1438.32,96.8004 \n",
       "  \"/>\n",
       "<polyline clip-path=\"url(#clip940)\" style=\"stroke:#009af9; stroke-width:1; stroke-opacity:1; fill:none\" points=\"\n",
       "  1456.56,81.6804 1566,81.6804 \n",
       "  \"/>\n",
       "<path clip-path=\"url(#clip940)\" d=\"M 0 0 M1587.7 86.6022 Q1587.25 87.7596 1586.82 88.1126 Q1586.39 88.4657 1585.67 88.4657 L1584.82 88.4657 L1584.82 87.5745 L1585.45 87.5745 Q1585.89 87.5745 1586.13 87.3661 Q1586.37 87.1578 1586.67 86.3823 L1586.86 85.8962 L1584.24 79.5189 L1585.36 79.5189 L1587.39 84.5884 L1589.42 79.5189 L1590.54 79.5189 L1587.7 86.6022 Z\" fill=\"#000000\" fill-rule=\"evenodd\" fill-opacity=\"1\" /><path clip-path=\"url(#clip940)\" d=\"M 0 0 M1592.01 85.0166 L1593.92 85.0166 L1593.92 78.4252 L1591.85 78.8419 L1591.85 77.7771 L1593.91 77.3604 L1595.08 77.3604 L1595.08 85.0166 L1596.99 85.0166 L1596.99 86.0004 L1592.01 86.0004 L1592.01 85.0166 Z\" fill=\"#000000\" fill-rule=\"evenodd\" fill-opacity=\"1\" /></svg>\n"
      ]
     },
     "execution_count": 63,
     "metadata": {},
     "output_type": "execute_result"
    }
   ],
   "source": [
    "plot(xs_ys(vs)..., size=(1700,1700))"
   ]
  },
  {
   "cell_type": "code",
   "execution_count": 65,
   "metadata": {},
   "outputs": [
    {
     "data": {
      "image/svg+xml": [
       "<?xml version=\"1.0\" encoding=\"utf-8\"?>\n",
       "<svg xmlns=\"http://www.w3.org/2000/svg\" xmlns:xlink=\"http://www.w3.org/1999/xlink\" width=\"425\" height=\"425\" viewBox=\"0 0 1700 1700\">\n",
       "<defs>\n",
       "  <clipPath id=\"clip020\">\n",
       "    <rect x=\"0\" y=\"0\" width=\"1700\" height=\"1700\"/>\n",
       "  </clipPath>\n",
       "</defs>\n",
       "<path clip-path=\"url(#clip020)\" d=\"\n",
       "M0 1700 L1700 1700 L1700 0 L0 0  Z\n",
       "  \" fill=\"#ffffff\" fill-rule=\"evenodd\" fill-opacity=\"1\"/>\n",
       "<defs>\n",
       "  <clipPath id=\"clip021\">\n",
       "    <rect x=\"340\" y=\"170\" width=\"1191\" height=\"1191\"/>\n",
       "  </clipPath>\n",
       "</defs>\n",
       "<defs>\n",
       "  <clipPath id=\"clip022\">\n",
       "    <rect x=\"44\" y=\"11\" width=\"1645\" height=\"1643\"/>\n",
       "  </clipPath>\n",
       "</defs>\n",
       "<path clip-path=\"url(#clip022)\" d=\"\n",
       "M44.6461 1557.27 L44.6461 302.89 L646.225 11.811 L1688.19 108.837 L1688.19 1363.21 L1086.61 1654.29 L44.6461 1557.27  Z\n",
       "  \" fill=\"#ffffff\" fill-rule=\"evenodd\" fill-opacity=\"1\"/>\n",
       "<polyline clip-path=\"url(#clip022)\" style=\"stroke:#000000; stroke-width:0.5; stroke-opacity:0.1; fill:none\" points=\"\n",
       "  74.0738,1560.01 675.652,1268.93 \n",
       "  \"/>\n",
       "<polyline clip-path=\"url(#clip022)\" style=\"stroke:#000000; stroke-width:0.5; stroke-opacity:0.1; fill:none\" points=\"\n",
       "  675.652,1268.93 675.652,14.5513 \n",
       "  \"/>\n",
       "<polyline clip-path=\"url(#clip022)\" style=\"stroke:#000000; stroke-width:0.5; stroke-opacity:0.1; fill:none\" points=\"\n",
       "  319.851,1582.89 921.43,1291.81 \n",
       "  \"/>\n",
       "<polyline clip-path=\"url(#clip022)\" style=\"stroke:#000000; stroke-width:0.5; stroke-opacity:0.1; fill:none\" points=\"\n",
       "  921.43,1291.81 921.43,37.4377 \n",
       "  \"/>\n",
       "<polyline clip-path=\"url(#clip022)\" style=\"stroke:#000000; stroke-width:0.5; stroke-opacity:0.1; fill:none\" points=\"\n",
       "  565.628,1605.78 1167.21,1314.7 \n",
       "  \"/>\n",
       "<polyline clip-path=\"url(#clip022)\" style=\"stroke:#000000; stroke-width:0.5; stroke-opacity:0.1; fill:none\" points=\"\n",
       "  1167.21,1314.7 1167.21,60.3242 \n",
       "  \"/>\n",
       "<polyline clip-path=\"url(#clip022)\" style=\"stroke:#000000; stroke-width:0.5; stroke-opacity:0.1; fill:none\" points=\"\n",
       "  811.406,1628.67 1412.98,1337.59 \n",
       "  \"/>\n",
       "<polyline clip-path=\"url(#clip022)\" style=\"stroke:#000000; stroke-width:0.5; stroke-opacity:0.1; fill:none\" points=\"\n",
       "  1412.98,1337.59 1412.98,83.2106 \n",
       "  \"/>\n",
       "<polyline clip-path=\"url(#clip022)\" style=\"stroke:#000000; stroke-width:0.5; stroke-opacity:0.1; fill:none\" points=\"\n",
       "  1057.18,1651.55 1658.76,1360.47 \n",
       "  \"/>\n",
       "<polyline clip-path=\"url(#clip022)\" style=\"stroke:#000000; stroke-width:0.5; stroke-opacity:0.1; fill:none\" points=\"\n",
       "  1658.76,1360.47 1658.76,106.097 \n",
       "  \"/>\n",
       "<polyline clip-path=\"url(#clip020)\" style=\"stroke:#000000; stroke-width:1; stroke-opacity:1; fill:none\" points=\"\n",
       "  44.6461,1557.27 1086.61,1654.29 \n",
       "  \"/>\n",
       "<polyline clip-path=\"url(#clip020)\" style=\"stroke:#000000; stroke-width:1; stroke-opacity:1; fill:none\" points=\"\n",
       "  74.0738,1560.01 81.2927,1556.51 \n",
       "  \"/>\n",
       "<polyline clip-path=\"url(#clip020)\" style=\"stroke:#000000; stroke-width:1; stroke-opacity:1; fill:none\" points=\"\n",
       "  319.851,1582.89 327.07,1579.4 \n",
       "  \"/>\n",
       "<polyline clip-path=\"url(#clip020)\" style=\"stroke:#000000; stroke-width:1; stroke-opacity:1; fill:none\" points=\"\n",
       "  565.628,1605.78 572.847,1602.29 \n",
       "  \"/>\n",
       "<polyline clip-path=\"url(#clip020)\" style=\"stroke:#000000; stroke-width:1; stroke-opacity:1; fill:none\" points=\"\n",
       "  811.406,1628.67 818.625,1625.17 \n",
       "  \"/>\n",
       "<polyline clip-path=\"url(#clip020)\" style=\"stroke:#000000; stroke-width:1; stroke-opacity:1; fill:none\" points=\"\n",
       "  1057.18,1651.55 1064.4,1648.06 \n",
       "  \"/>\n",
       "<path clip-path=\"url(#clip020)\" d=\"M 0 0 M45.52 1583.17 L52.939 1583.17 L52.939 1584.15 L45.52 1584.15 L45.52 1583.17 Z\" fill=\"#000000\" fill-rule=\"evenodd\" fill-opacity=\"1\" /><path clip-path=\"url(#clip020)\" d=\"M 0 0 M54.4089 1586.39 L56.3186 1586.39 L56.3186 1579.8 L54.2411 1580.22 L54.2411 1579.15 L56.307 1578.73 L57.476 1578.73 L57.476 1586.39 L59.3857 1586.39 L59.3857 1587.37 L54.4089 1587.37 L54.4089 1586.39 Z\" fill=\"#000000\" fill-rule=\"evenodd\" fill-opacity=\"1\" /><path clip-path=\"url(#clip020)\" d=\"M 0 0 M60.6531 1585.9 L61.8741 1585.9 L61.8741 1587.37 L60.6531 1587.37 L60.6531 1585.9 Z\" fill=\"#000000\" fill-rule=\"evenodd\" fill-opacity=\"1\" /><path clip-path=\"url(#clip020)\" d=\"M 0 0 M65.6415 1579.5 Q64.7387 1579.5 64.2815 1580.39 Q63.8301 1581.28 63.8301 1583.06 Q63.8301 1584.84 64.2815 1585.73 Q64.7387 1586.62 65.6415 1586.62 Q66.55 1586.62 67.0014 1585.73 Q67.4586 1584.84 67.4586 1583.06 Q67.4586 1581.28 67.0014 1580.39 Q66.55 1579.5 65.6415 1579.5 M65.6415 1578.58 Q67.094 1578.58 67.8579 1579.73 Q68.6276 1580.88 68.6276 1583.06 Q68.6276 1585.24 67.8579 1586.4 Q67.094 1587.54 65.6415 1587.54 Q64.1889 1587.54 63.4193 1586.4 Q62.6554 1585.24 62.6554 1583.06 Q62.6554 1580.88 63.4193 1579.73 Q64.1889 1578.58 65.6415 1578.58 Z\" fill=\"#000000\" fill-rule=\"evenodd\" fill-opacity=\"1\" /><path clip-path=\"url(#clip020)\" d=\"M 0 0 M291.268 1606.05 L298.687 1606.05 L298.687 1607.04 L291.268 1607.04 L291.268 1606.05 Z\" fill=\"#000000\" fill-rule=\"evenodd\" fill-opacity=\"1\" /><path clip-path=\"url(#clip020)\" d=\"M 0 0 M302.455 1602.39 Q301.552 1602.39 301.095 1603.28 Q300.643 1604.17 300.643 1605.95 Q300.643 1607.73 301.095 1608.62 Q301.552 1609.5 302.455 1609.5 Q303.363 1609.5 303.815 1608.62 Q304.272 1607.73 304.272 1605.95 Q304.272 1604.17 303.815 1603.28 Q303.363 1602.39 302.455 1602.39 M302.455 1601.46 Q303.907 1601.46 304.671 1602.62 Q305.441 1603.76 305.441 1605.95 Q305.441 1608.13 304.671 1609.28 Q303.907 1610.43 302.455 1610.43 Q301.002 1610.43 300.232 1609.28 Q299.469 1608.13 299.469 1605.95 Q299.469 1603.76 300.232 1602.62 Q301.002 1601.46 302.455 1601.46 Z\" fill=\"#000000\" fill-rule=\"evenodd\" fill-opacity=\"1\" /><path clip-path=\"url(#clip020)\" d=\"M 0 0 M306.708 1608.79 L307.929 1608.79 L307.929 1610.26 L306.708 1610.26 L306.708 1608.79 Z\" fill=\"#000000\" fill-rule=\"evenodd\" fill-opacity=\"1\" /><path clip-path=\"url(#clip020)\" d=\"M 0 0 M309.208 1601.62 L313.797 1601.62 L313.797 1602.6 L310.279 1602.6 L310.279 1604.72 Q310.533 1604.64 310.788 1604.59 Q311.043 1604.55 311.297 1604.55 Q312.744 1604.55 313.589 1605.34 Q314.434 1606.13 314.434 1607.49 Q314.434 1608.88 313.566 1609.66 Q312.698 1610.43 311.118 1610.43 Q310.574 1610.43 310.007 1610.34 Q309.445 1610.24 308.844 1610.06 L308.844 1608.88 Q309.364 1609.17 309.92 1609.31 Q310.475 1609.44 311.095 1609.44 Q312.096 1609.44 312.68 1608.92 Q313.265 1608.39 313.265 1607.49 Q313.265 1606.59 312.68 1606.06 Q312.096 1605.53 311.095 1605.53 Q310.626 1605.53 310.157 1605.64 Q309.694 1605.74 309.208 1605.96 L309.208 1601.62 Z\" fill=\"#000000\" fill-rule=\"evenodd\" fill-opacity=\"1\" /><path clip-path=\"url(#clip020)\" d=\"M 0 0 M544.007 1625.28 Q543.105 1625.28 542.647 1626.17 Q542.196 1627.05 542.196 1628.84 Q542.196 1630.61 542.647 1631.5 Q543.105 1632.39 544.007 1632.39 Q544.916 1632.39 545.367 1631.5 Q545.825 1630.61 545.825 1628.84 Q545.825 1627.05 545.367 1626.17 Q544.916 1625.28 544.007 1625.28 M544.007 1624.35 Q545.46 1624.35 546.224 1625.5 Q546.993 1626.65 546.993 1628.84 Q546.993 1631.02 546.224 1632.17 Q545.46 1633.31 544.007 1633.31 Q542.555 1633.31 541.785 1632.17 Q541.021 1631.02 541.021 1628.84 Q541.021 1626.65 541.785 1625.5 Q542.555 1624.35 544.007 1624.35 Z\" fill=\"#000000\" fill-rule=\"evenodd\" fill-opacity=\"1\" /><path clip-path=\"url(#clip020)\" d=\"M 0 0 M548.261 1631.68 L549.482 1631.68 L549.482 1633.15 L548.261 1633.15 L548.261 1631.68 Z\" fill=\"#000000\" fill-rule=\"evenodd\" fill-opacity=\"1\" /><path clip-path=\"url(#clip020)\" d=\"M 0 0 M553.249 1625.28 Q552.346 1625.28 551.889 1626.17 Q551.438 1627.05 551.438 1628.84 Q551.438 1630.61 551.889 1631.5 Q552.346 1632.39 553.249 1632.39 Q554.158 1632.39 554.609 1631.5 Q555.066 1630.61 555.066 1628.84 Q555.066 1627.05 554.609 1626.17 Q554.158 1625.28 553.249 1625.28 M553.249 1624.35 Q554.702 1624.35 555.466 1625.5 Q556.235 1626.65 556.235 1628.84 Q556.235 1631.02 555.466 1632.17 Q554.702 1633.31 553.249 1633.31 Q551.797 1633.31 551.027 1632.17 Q550.263 1631.02 550.263 1628.84 Q550.263 1626.65 551.027 1625.5 Q551.797 1624.35 553.249 1624.35 Z\" fill=\"#000000\" fill-rule=\"evenodd\" fill-opacity=\"1\" /><path clip-path=\"url(#clip020)\" d=\"M 0 0 M789.909 1648.16 Q789.006 1648.16 788.549 1649.05 Q788.098 1649.94 788.098 1651.72 Q788.098 1653.5 788.549 1654.39 Q789.006 1655.28 789.909 1655.28 Q790.818 1655.28 791.269 1654.39 Q791.726 1653.5 791.726 1651.72 Q791.726 1649.94 791.269 1649.05 Q790.818 1648.16 789.909 1648.16 M789.909 1647.24 Q791.362 1647.24 792.126 1648.39 Q792.895 1649.53 792.895 1651.72 Q792.895 1653.9 792.126 1655.06 Q791.362 1656.2 789.909 1656.2 Q788.457 1656.2 787.687 1655.06 Q786.923 1653.9 786.923 1651.72 Q786.923 1649.53 787.687 1648.39 Q788.457 1647.24 789.909 1647.24 Z\" fill=\"#000000\" fill-rule=\"evenodd\" fill-opacity=\"1\" /><path clip-path=\"url(#clip020)\" d=\"M 0 0 M794.163 1654.56 L795.384 1654.56 L795.384 1656.03 L794.163 1656.03 L794.163 1654.56 Z\" fill=\"#000000\" fill-rule=\"evenodd\" fill-opacity=\"1\" /><path clip-path=\"url(#clip020)\" d=\"M 0 0 M796.663 1647.39 L801.252 1647.39 L801.252 1648.38 L797.733 1648.38 L797.733 1650.5 Q797.988 1650.41 798.242 1650.37 Q798.497 1650.32 798.752 1650.32 Q800.198 1650.32 801.043 1651.11 Q801.888 1651.91 801.888 1653.26 Q801.888 1654.66 801.02 1655.43 Q800.152 1656.2 798.572 1656.2 Q798.028 1656.2 797.461 1656.11 Q796.9 1656.02 796.298 1655.83 L796.298 1654.66 Q796.819 1654.94 797.374 1655.08 Q797.93 1655.22 798.549 1655.22 Q799.55 1655.22 800.135 1654.69 Q800.719 1654.16 800.719 1653.26 Q800.719 1652.36 800.135 1651.83 Q799.55 1651.31 798.549 1651.31 Q798.08 1651.31 797.612 1651.41 Q797.149 1651.51 796.663 1651.73 L796.663 1647.39 Z\" fill=\"#000000\" fill-rule=\"evenodd\" fill-opacity=\"1\" /><path clip-path=\"url(#clip020)\" d=\"M 0 0 M1033.16 1677.94 L1035.07 1677.94 L1035.07 1671.34 L1032.99 1671.76 L1032.99 1670.7 L1035.06 1670.28 L1036.22 1670.28 L1036.22 1677.94 L1038.13 1677.94 L1038.13 1678.92 L1033.16 1678.92 L1033.16 1677.94 Z\" fill=\"#000000\" fill-rule=\"evenodd\" fill-opacity=\"1\" /><path clip-path=\"url(#clip020)\" d=\"M 0 0 M1039.4 1677.45 L1040.62 1677.45 L1040.62 1678.92 L1039.4 1678.92 L1039.4 1677.45 Z\" fill=\"#000000\" fill-rule=\"evenodd\" fill-opacity=\"1\" /><path clip-path=\"url(#clip020)\" d=\"M 0 0 M1044.39 1671.05 Q1043.49 1671.05 1043.03 1671.94 Q1042.58 1672.83 1042.58 1674.61 Q1042.58 1676.38 1043.03 1677.28 Q1043.49 1678.16 1044.39 1678.16 Q1045.3 1678.16 1045.75 1677.28 Q1046.21 1676.38 1046.21 1674.61 Q1046.21 1672.83 1045.75 1671.94 Q1045.3 1671.05 1044.39 1671.05 M1044.39 1670.12 Q1045.84 1670.12 1046.61 1671.28 Q1047.38 1672.42 1047.38 1674.61 Q1047.38 1676.79 1046.61 1677.94 Q1045.84 1679.09 1044.39 1679.09 Q1042.94 1679.09 1042.17 1677.94 Q1041.4 1676.79 1041.4 1674.61 Q1041.4 1672.42 1042.17 1671.28 Q1042.94 1670.12 1044.39 1670.12 Z\" fill=\"#000000\" fill-rule=\"evenodd\" fill-opacity=\"1\" /><polyline clip-path=\"url(#clip022)\" style=\"stroke:#000000; stroke-width:0.5; stroke-opacity:0.1; fill:none\" points=\"\n",
       "  1103.49,1646.12 61.529,1549.1 \n",
       "  \"/>\n",
       "<polyline clip-path=\"url(#clip022)\" style=\"stroke:#000000; stroke-width:0.5; stroke-opacity:0.1; fill:none\" points=\"\n",
       "  61.529,1549.1 61.529,294.721 \n",
       "  \"/>\n",
       "<polyline clip-path=\"url(#clip022)\" style=\"stroke:#000000; stroke-width:0.5; stroke-opacity:0.1; fill:none\" points=\"\n",
       "  1245.41,1577.46 203.446,1480.43 \n",
       "  \"/>\n",
       "<polyline clip-path=\"url(#clip022)\" style=\"stroke:#000000; stroke-width:0.5; stroke-opacity:0.1; fill:none\" points=\"\n",
       "  203.446,1480.43 203.446,226.053 \n",
       "  \"/>\n",
       "<polyline clip-path=\"url(#clip022)\" style=\"stroke:#000000; stroke-width:0.5; stroke-opacity:0.1; fill:none\" points=\"\n",
       "  1387.33,1508.79 345.364,1411.76 \n",
       "  \"/>\n",
       "<polyline clip-path=\"url(#clip022)\" style=\"stroke:#000000; stroke-width:0.5; stroke-opacity:0.1; fill:none\" points=\"\n",
       "  345.364,1411.76 345.364,157.385 \n",
       "  \"/>\n",
       "<polyline clip-path=\"url(#clip022)\" style=\"stroke:#000000; stroke-width:0.5; stroke-opacity:0.1; fill:none\" points=\"\n",
       "  1529.25,1440.12 487.281,1343.09 \n",
       "  \"/>\n",
       "<polyline clip-path=\"url(#clip022)\" style=\"stroke:#000000; stroke-width:0.5; stroke-opacity:0.1; fill:none\" points=\"\n",
       "  487.281,1343.09 487.281,88.7171 \n",
       "  \"/>\n",
       "<polyline clip-path=\"url(#clip022)\" style=\"stroke:#000000; stroke-width:0.5; stroke-opacity:0.1; fill:none\" points=\"\n",
       "  1671.16,1371.45 629.199,1274.42 \n",
       "  \"/>\n",
       "<polyline clip-path=\"url(#clip022)\" style=\"stroke:#000000; stroke-width:0.5; stroke-opacity:0.1; fill:none\" points=\"\n",
       "  629.199,1274.42 629.199,20.0491 \n",
       "  \"/>\n",
       "<polyline clip-path=\"url(#clip020)\" style=\"stroke:#000000; stroke-width:1; stroke-opacity:1; fill:none\" points=\"\n",
       "  1086.61,1654.29 1688.19,1363.21 \n",
       "  \"/>\n",
       "<polyline clip-path=\"url(#clip020)\" style=\"stroke:#000000; stroke-width:1; stroke-opacity:1; fill:none\" points=\"\n",
       "  1103.49,1646.12 1090.99,1644.96 \n",
       "  \"/>\n",
       "<polyline clip-path=\"url(#clip020)\" style=\"stroke:#000000; stroke-width:1; stroke-opacity:1; fill:none\" points=\"\n",
       "  1245.41,1577.46 1232.91,1576.29 \n",
       "  \"/>\n",
       "<polyline clip-path=\"url(#clip020)\" style=\"stroke:#000000; stroke-width:1; stroke-opacity:1; fill:none\" points=\"\n",
       "  1387.33,1508.79 1374.82,1507.62 \n",
       "  \"/>\n",
       "<polyline clip-path=\"url(#clip020)\" style=\"stroke:#000000; stroke-width:1; stroke-opacity:1; fill:none\" points=\"\n",
       "  1529.25,1440.12 1516.74,1438.95 \n",
       "  \"/>\n",
       "<polyline clip-path=\"url(#clip020)\" style=\"stroke:#000000; stroke-width:1; stroke-opacity:1; fill:none\" points=\"\n",
       "  1671.16,1371.45 1658.66,1370.29 \n",
       "  \"/>\n",
       "<path clip-path=\"url(#clip020)\" d=\"M 0 0 M1108.94 1669.28 L1116.36 1669.28 L1116.36 1670.27 L1108.94 1670.27 L1108.94 1669.28 Z\" fill=\"#000000\" fill-rule=\"evenodd\" fill-opacity=\"1\" /><path clip-path=\"url(#clip020)\" d=\"M 0 0 M1117.83 1672.51 L1119.74 1672.51 L1119.74 1665.92 L1117.66 1666.33 L1117.66 1665.27 L1119.73 1664.85 L1120.9 1664.85 L1120.9 1672.51 L1122.81 1672.51 L1122.81 1673.49 L1117.83 1673.49 L1117.83 1672.51 Z\" fill=\"#000000\" fill-rule=\"evenodd\" fill-opacity=\"1\" /><path clip-path=\"url(#clip020)\" d=\"M 0 0 M1124.07 1672.02 L1125.29 1672.02 L1125.29 1673.49 L1124.07 1673.49 L1124.07 1672.02 Z\" fill=\"#000000\" fill-rule=\"evenodd\" fill-opacity=\"1\" /><path clip-path=\"url(#clip020)\" d=\"M 0 0 M1129.06 1665.62 Q1128.16 1665.62 1127.7 1666.51 Q1127.25 1667.4 1127.25 1669.18 Q1127.25 1670.96 1127.7 1671.85 Q1128.16 1672.73 1129.06 1672.73 Q1129.97 1672.73 1130.42 1671.85 Q1130.88 1670.96 1130.88 1669.18 Q1130.88 1667.4 1130.42 1666.51 Q1129.97 1665.62 1129.06 1665.62 M1129.06 1664.69 Q1130.51 1664.69 1131.28 1665.85 Q1132.05 1666.99 1132.05 1669.18 Q1132.05 1671.36 1131.28 1672.51 Q1130.51 1673.66 1129.06 1673.66 Q1127.61 1673.66 1126.84 1672.51 Q1126.08 1671.36 1126.08 1669.18 Q1126.08 1666.99 1126.84 1665.85 Q1127.61 1664.69 1129.06 1664.69 Z\" fill=\"#000000\" fill-rule=\"evenodd\" fill-opacity=\"1\" /><path clip-path=\"url(#clip020)\" d=\"M 0 0 M1250.83 1600.62 L1258.25 1600.62 L1258.25 1601.6 L1250.83 1601.6 L1250.83 1600.62 Z\" fill=\"#000000\" fill-rule=\"evenodd\" fill-opacity=\"1\" /><path clip-path=\"url(#clip020)\" d=\"M 0 0 M1262.01 1596.95 Q1261.11 1596.95 1260.65 1597.84 Q1260.2 1598.73 1260.2 1600.51 Q1260.2 1602.29 1260.65 1603.18 Q1261.11 1604.06 1262.01 1604.06 Q1262.92 1604.06 1263.37 1603.18 Q1263.83 1602.29 1263.83 1600.51 Q1263.83 1598.73 1263.37 1597.84 Q1262.92 1596.95 1262.01 1596.95 M1262.01 1596.03 Q1263.47 1596.03 1264.23 1597.18 Q1265 1598.32 1265 1600.51 Q1265 1602.69 1264.23 1603.85 Q1263.47 1604.99 1262.01 1604.99 Q1260.56 1604.99 1259.79 1603.85 Q1259.03 1602.69 1259.03 1600.51 Q1259.03 1598.32 1259.79 1597.18 Q1260.56 1596.03 1262.01 1596.03 Z\" fill=\"#000000\" fill-rule=\"evenodd\" fill-opacity=\"1\" /><path clip-path=\"url(#clip020)\" d=\"M 0 0 M1266.27 1603.35 L1267.49 1603.35 L1267.49 1604.82 L1266.27 1604.82 L1266.27 1603.35 Z\" fill=\"#000000\" fill-rule=\"evenodd\" fill-opacity=\"1\" /><path clip-path=\"url(#clip020)\" d=\"M 0 0 M1268.77 1596.18 L1273.36 1596.18 L1273.36 1597.17 L1269.84 1597.17 L1269.84 1599.28 Q1270.09 1599.2 1270.35 1599.16 Q1270.6 1599.11 1270.86 1599.11 Q1272.3 1599.11 1273.15 1599.9 Q1273.99 1600.7 1273.99 1602.05 Q1273.99 1603.45 1273.13 1604.22 Q1272.26 1604.99 1270.68 1604.99 Q1270.13 1604.99 1269.57 1604.9 Q1269.01 1604.81 1268.4 1604.62 L1268.4 1603.45 Q1268.92 1603.73 1269.48 1603.87 Q1270.04 1604.01 1270.65 1604.01 Q1271.66 1604.01 1272.24 1603.48 Q1272.82 1602.95 1272.82 1602.05 Q1272.82 1601.15 1272.24 1600.62 Q1271.66 1600.1 1270.65 1600.1 Q1270.19 1600.1 1269.72 1600.2 Q1269.25 1600.3 1268.77 1600.52 L1268.77 1596.18 Z\" fill=\"#000000\" fill-rule=\"evenodd\" fill-opacity=\"1\" /><path clip-path=\"url(#clip020)\" d=\"M 0 0 M1399.71 1528.28 Q1398.8 1528.28 1398.35 1529.18 Q1397.9 1530.06 1397.9 1531.84 Q1397.9 1533.62 1398.35 1534.51 Q1398.8 1535.4 1399.71 1535.4 Q1400.62 1535.4 1401.07 1534.51 Q1401.52 1533.62 1401.52 1531.84 Q1401.52 1530.06 1401.07 1529.18 Q1400.62 1528.28 1399.71 1528.28 M1399.71 1527.36 Q1401.16 1527.36 1401.92 1528.51 Q1402.69 1529.66 1402.69 1531.84 Q1402.69 1534.03 1401.92 1535.18 Q1401.16 1536.32 1399.71 1536.32 Q1398.25 1536.32 1397.49 1535.18 Q1396.72 1534.03 1396.72 1531.84 Q1396.72 1529.66 1397.49 1528.51 Q1398.25 1527.36 1399.71 1527.36 Z\" fill=\"#000000\" fill-rule=\"evenodd\" fill-opacity=\"1\" /><path clip-path=\"url(#clip020)\" d=\"M 0 0 M1403.96 1534.69 L1405.18 1534.69 L1405.18 1536.16 L1403.96 1536.16 L1403.96 1534.69 Z\" fill=\"#000000\" fill-rule=\"evenodd\" fill-opacity=\"1\" /><path clip-path=\"url(#clip020)\" d=\"M 0 0 M1408.95 1528.28 Q1408.05 1528.28 1407.59 1529.18 Q1407.14 1530.06 1407.14 1531.84 Q1407.14 1533.62 1407.59 1534.51 Q1408.05 1535.4 1408.95 1535.4 Q1409.86 1535.4 1410.31 1534.51 Q1410.77 1533.62 1410.77 1531.84 Q1410.77 1530.06 1410.31 1529.18 Q1409.86 1528.28 1408.95 1528.28 M1408.95 1527.36 Q1410.4 1527.36 1411.17 1528.51 Q1411.94 1529.66 1411.94 1531.84 Q1411.94 1534.03 1411.17 1535.18 Q1410.4 1536.32 1408.95 1536.32 Q1407.5 1536.32 1406.73 1535.18 Q1405.96 1534.03 1405.96 1531.84 Q1405.96 1529.66 1406.73 1528.51 Q1407.5 1527.36 1408.95 1527.36 Z\" fill=\"#000000\" fill-rule=\"evenodd\" fill-opacity=\"1\" /><path clip-path=\"url(#clip020)\" d=\"M 0 0 M1541.75 1459.62 Q1540.85 1459.62 1540.39 1460.51 Q1539.94 1461.39 1539.94 1463.18 Q1539.94 1464.95 1540.39 1465.84 Q1540.85 1466.73 1541.75 1466.73 Q1542.66 1466.73 1543.11 1465.84 Q1543.57 1464.95 1543.57 1463.18 Q1543.57 1461.39 1543.11 1460.51 Q1542.66 1459.62 1541.75 1459.62 M1541.75 1458.69 Q1543.2 1458.69 1543.97 1459.84 Q1544.74 1460.99 1544.74 1463.18 Q1544.74 1465.36 1543.97 1466.51 Q1543.2 1467.65 1541.75 1467.65 Q1540.3 1467.65 1539.53 1466.51 Q1538.76 1465.36 1538.76 1463.18 Q1538.76 1460.99 1539.53 1459.84 Q1540.3 1458.69 1541.75 1458.69 Z\" fill=\"#000000\" fill-rule=\"evenodd\" fill-opacity=\"1\" /><path clip-path=\"url(#clip020)\" d=\"M 0 0 M1546 1466.02 L1547.22 1466.02 L1547.22 1467.49 L1546 1467.49 L1546 1466.02 Z\" fill=\"#000000\" fill-rule=\"evenodd\" fill-opacity=\"1\" /><path clip-path=\"url(#clip020)\" d=\"M 0 0 M1548.5 1458.85 L1553.09 1458.85 L1553.09 1459.83 L1549.57 1459.83 L1549.57 1461.95 Q1549.83 1461.86 1550.08 1461.82 Q1550.34 1461.78 1550.59 1461.78 Q1552.04 1461.78 1552.88 1462.57 Q1553.73 1463.36 1553.73 1464.72 Q1553.73 1466.11 1552.86 1466.89 Q1551.99 1467.65 1550.41 1467.65 Q1549.87 1467.65 1549.3 1467.56 Q1548.74 1467.47 1548.14 1467.28 L1548.14 1466.11 Q1548.66 1466.39 1549.21 1466.53 Q1549.77 1466.67 1550.39 1466.67 Q1551.39 1466.67 1551.97 1466.14 Q1552.56 1465.62 1552.56 1464.72 Q1552.56 1463.81 1551.97 1463.29 Q1551.39 1462.76 1550.39 1462.76 Q1549.92 1462.76 1549.45 1462.86 Q1548.99 1462.97 1548.5 1463.19 L1548.5 1458.85 Z\" fill=\"#000000\" fill-rule=\"evenodd\" fill-opacity=\"1\" /><path clip-path=\"url(#clip020)\" d=\"M 0 0 M1681.14 1397.84 L1683.05 1397.84 L1683.05 1391.24 L1680.97 1391.66 L1680.97 1390.6 L1683.04 1390.18 L1684.2 1390.18 L1684.2 1397.84 L1686.11 1397.84 L1686.11 1398.82 L1681.14 1398.82 L1681.14 1397.84 Z\" fill=\"#000000\" fill-rule=\"evenodd\" fill-opacity=\"1\" /><path clip-path=\"url(#clip020)\" d=\"M 0 0 M1687.38 1397.35 L1688.6 1397.35 L1688.6 1398.82 L1687.38 1398.82 L1687.38 1397.35 Z\" fill=\"#000000\" fill-rule=\"evenodd\" fill-opacity=\"1\" /><path clip-path=\"url(#clip020)\" d=\"M 0 0 M1692.37 1390.95 Q1691.47 1390.95 1691.01 1391.84 Q1690.56 1392.73 1690.56 1394.51 Q1690.56 1396.28 1691.01 1397.18 Q1691.47 1398.06 1692.37 1398.06 Q1693.28 1398.06 1693.73 1397.18 Q1694.19 1396.28 1694.19 1394.51 Q1694.19 1392.73 1693.73 1391.84 Q1693.28 1390.95 1692.37 1390.95 M1692.37 1390.02 Q1693.82 1390.02 1694.59 1391.17 Q1695.36 1392.32 1695.36 1394.51 Q1695.36 1396.69 1694.59 1397.84 Q1693.82 1398.99 1692.37 1398.99 Q1690.92 1398.99 1690.15 1397.84 Q1689.38 1396.69 1689.38 1394.51 Q1689.38 1392.32 1690.15 1391.17 Q1690.92 1390.02 1692.37 1390.02 Z\" fill=\"#000000\" fill-rule=\"evenodd\" fill-opacity=\"1\" /><polyline clip-path=\"url(#clip022)\" style=\"stroke:#000000; stroke-width:0.5; stroke-opacity:0.1; fill:none\" points=\"\n",
       "  44.6461,1521.76 646.225,1230.69 \n",
       "  \"/>\n",
       "<polyline clip-path=\"url(#clip022)\" style=\"stroke:#000000; stroke-width:0.5; stroke-opacity:0.1; fill:none\" points=\"\n",
       "  646.225,1230.69 1688.19,1327.71 \n",
       "  \"/>\n",
       "<polyline clip-path=\"url(#clip022)\" style=\"stroke:#000000; stroke-width:0.5; stroke-opacity:0.1; fill:none\" points=\"\n",
       "  44.6461,1333.42 646.225,1042.35 \n",
       "  \"/>\n",
       "<polyline clip-path=\"url(#clip022)\" style=\"stroke:#000000; stroke-width:0.5; stroke-opacity:0.1; fill:none\" points=\"\n",
       "  646.225,1042.35 1688.19,1139.37 \n",
       "  \"/>\n",
       "<polyline clip-path=\"url(#clip022)\" style=\"stroke:#000000; stroke-width:0.5; stroke-opacity:0.1; fill:none\" points=\"\n",
       "  44.6461,1145.09 646.225,854.006 \n",
       "  \"/>\n",
       "<polyline clip-path=\"url(#clip022)\" style=\"stroke:#000000; stroke-width:0.5; stroke-opacity:0.1; fill:none\" points=\"\n",
       "  646.225,854.006 1688.19,951.032 \n",
       "  \"/>\n",
       "<polyline clip-path=\"url(#clip022)\" style=\"stroke:#000000; stroke-width:0.5; stroke-opacity:0.1; fill:none\" points=\"\n",
       "  44.6461,956.745 646.225,665.666 \n",
       "  \"/>\n",
       "<polyline clip-path=\"url(#clip022)\" style=\"stroke:#000000; stroke-width:0.5; stroke-opacity:0.1; fill:none\" points=\"\n",
       "  646.225,665.666 1688.19,762.693 \n",
       "  \"/>\n",
       "<polyline clip-path=\"url(#clip022)\" style=\"stroke:#000000; stroke-width:0.5; stroke-opacity:0.1; fill:none\" points=\"\n",
       "  44.6461,768.406 646.225,477.327 \n",
       "  \"/>\n",
       "<polyline clip-path=\"url(#clip022)\" style=\"stroke:#000000; stroke-width:0.5; stroke-opacity:0.1; fill:none\" points=\"\n",
       "  646.225,477.327 1688.19,574.353 \n",
       "  \"/>\n",
       "<polyline clip-path=\"url(#clip022)\" style=\"stroke:#000000; stroke-width:0.5; stroke-opacity:0.1; fill:none\" points=\"\n",
       "  44.6461,580.066 646.225,288.987 \n",
       "  \"/>\n",
       "<polyline clip-path=\"url(#clip022)\" style=\"stroke:#000000; stroke-width:0.5; stroke-opacity:0.1; fill:none\" points=\"\n",
       "  646.225,288.987 1688.19,386.013 \n",
       "  \"/>\n",
       "<polyline clip-path=\"url(#clip022)\" style=\"stroke:#000000; stroke-width:0.5; stroke-opacity:0.1; fill:none\" points=\"\n",
       "  44.6461,391.726 646.225,100.647 \n",
       "  \"/>\n",
       "<polyline clip-path=\"url(#clip022)\" style=\"stroke:#000000; stroke-width:0.5; stroke-opacity:0.1; fill:none\" points=\"\n",
       "  646.225,100.647 1688.19,197.674 \n",
       "  \"/>\n",
       "<polyline clip-path=\"url(#clip020)\" style=\"stroke:#000000; stroke-width:1; stroke-opacity:1; fill:none\" points=\"\n",
       "  44.6461,1557.27 44.6461,302.89 \n",
       "  \"/>\n",
       "<polyline clip-path=\"url(#clip020)\" style=\"stroke:#000000; stroke-width:1; stroke-opacity:1; fill:none\" points=\"\n",
       "  44.6461,1521.76 51.8651,1518.27 \n",
       "  \"/>\n",
       "<polyline clip-path=\"url(#clip020)\" style=\"stroke:#000000; stroke-width:1; stroke-opacity:1; fill:none\" points=\"\n",
       "  44.6461,1333.42 51.8651,1329.93 \n",
       "  \"/>\n",
       "<polyline clip-path=\"url(#clip020)\" style=\"stroke:#000000; stroke-width:1; stroke-opacity:1; fill:none\" points=\"\n",
       "  44.6461,1145.09 51.8651,1141.59 \n",
       "  \"/>\n",
       "<polyline clip-path=\"url(#clip020)\" style=\"stroke:#000000; stroke-width:1; stroke-opacity:1; fill:none\" points=\"\n",
       "  44.6461,956.745 51.8651,953.252 \n",
       "  \"/>\n",
       "<polyline clip-path=\"url(#clip020)\" style=\"stroke:#000000; stroke-width:1; stroke-opacity:1; fill:none\" points=\"\n",
       "  44.6461,768.406 51.8651,764.913 \n",
       "  \"/>\n",
       "<polyline clip-path=\"url(#clip020)\" style=\"stroke:#000000; stroke-width:1; stroke-opacity:1; fill:none\" points=\"\n",
       "  44.6461,580.066 51.8651,576.573 \n",
       "  \"/>\n",
       "<polyline clip-path=\"url(#clip020)\" style=\"stroke:#000000; stroke-width:1; stroke-opacity:1; fill:none\" points=\"\n",
       "  44.6461,391.726 51.8651,388.233 \n",
       "  \"/>\n",
       "<path clip-path=\"url(#clip020)\" d=\"M 0 0 M24.66 1518.21 Q23.7572 1518.21 23.3001 1519.11 Q22.8487 1519.99 22.8487 1521.77 Q22.8487 1523.55 23.3001 1524.44 Q23.7572 1525.33 24.66 1525.33 Q25.5686 1525.33 26.02 1524.44 Q26.4771 1523.55 26.4771 1521.77 Q26.4771 1519.99 26.02 1519.11 Q25.5686 1518.21 24.66 1518.21 M24.66 1517.29 Q26.1126 1517.29 26.8764 1518.44 Q27.6461 1519.59 27.6461 1521.77 Q27.6461 1523.95 26.8764 1525.11 Q26.1126 1526.25 24.66 1526.25 Q23.2075 1526.25 22.4378 1525.11 Q21.6739 1523.95 21.6739 1521.77 Q21.6739 1519.59 22.4378 1518.44 Q23.2075 1517.29 24.66 1517.29 Z\" fill=\"#000000\" fill-rule=\"evenodd\" fill-opacity=\"1\" /><path clip-path=\"url(#clip020)\" d=\"M 0 0 M23.5663 1336.76 L27.6461 1336.76 L27.6461 1337.74 L22.16 1337.74 L22.16 1336.76 Q22.8255 1336.07 23.9714 1334.91 Q25.123 1333.75 25.4181 1333.42 Q25.9795 1332.79 26.1994 1332.35 Q26.4251 1331.91 26.4251 1331.49 Q26.4251 1330.8 25.9389 1330.37 Q25.4586 1329.93 24.6832 1329.93 Q24.1334 1329.93 23.52 1330.12 Q22.9123 1330.31 22.2179 1330.7 L22.2179 1329.52 Q22.9239 1329.24 23.5373 1329.09 Q24.1508 1328.95 24.66 1328.95 Q26.0026 1328.95 26.8012 1329.62 Q27.5998 1330.29 27.5998 1331.41 Q27.5998 1331.95 27.3973 1332.43 Q27.2005 1332.9 26.6739 1333.55 Q26.5292 1333.72 25.7538 1334.52 Q24.9783 1335.32 23.5663 1336.76 Z\" fill=\"#000000\" fill-rule=\"evenodd\" fill-opacity=\"1\" /><path clip-path=\"url(#clip020)\" d=\"M 0 0 M25.2503 1141.78 L22.2989 1146.4 L25.2503 1146.4 L25.2503 1141.78 M24.9436 1140.77 L26.4135 1140.77 L26.4135 1146.4 L27.6461 1146.4 L27.6461 1147.37 L26.4135 1147.37 L26.4135 1149.41 L25.2503 1149.41 L25.2503 1147.37 L21.3499 1147.37 L21.3499 1146.24 L24.9436 1140.77 Z\" fill=\"#000000\" fill-rule=\"evenodd\" fill-opacity=\"1\" /><path clip-path=\"url(#clip020)\" d=\"M 0 0 M24.7642 956.279 Q23.9772 956.279 23.5142 956.818 Q23.057 957.356 23.057 958.293 Q23.057 959.225 23.5142 959.769 Q23.9772 960.307 24.7642 960.307 Q25.5512 960.307 26.0084 959.769 Q26.4714 959.225 26.4714 958.293 Q26.4714 957.356 26.0084 956.818 Q25.5512 956.279 24.7642 956.279 M27.0848 952.616 L27.0848 953.681 Q26.645 953.473 26.1936 953.363 Q25.748 953.253 25.3082 953.253 Q24.1508 953.253 23.5373 954.034 Q22.9297 954.815 22.8429 956.395 Q23.1843 955.892 23.6994 955.626 Q24.2144 955.354 24.8336 955.354 Q26.1357 955.354 26.888 956.146 Q27.6461 956.933 27.6461 958.293 Q27.6461 959.624 26.8591 960.429 Q26.0721 961.233 24.7642 961.233 Q23.2654 961.233 22.4725 960.087 Q21.6797 958.936 21.6797 956.754 Q21.6797 954.705 22.6519 953.49 Q23.6241 952.269 25.2619 952.269 Q25.7017 952.269 26.1473 952.356 Q26.5987 952.443 27.0848 952.616 Z\" fill=\"#000000\" fill-rule=\"evenodd\" fill-opacity=\"1\" /><path clip-path=\"url(#clip020)\" d=\"M 0 0 M24.6832 768.623 Q23.8498 768.623 23.3695 769.068 Q22.895 769.514 22.895 770.295 Q22.895 771.076 23.3695 771.522 Q23.8498 771.968 24.6832 771.968 Q25.5165 771.968 25.9968 771.522 Q26.4771 771.071 26.4771 770.295 Q26.4771 769.514 25.9968 769.068 Q25.5223 768.623 24.6832 768.623 M23.5142 768.125 Q22.7619 767.94 22.3394 767.425 Q21.9228 766.91 21.9228 766.169 Q21.9228 765.133 22.6577 764.531 Q23.3985 763.929 24.6832 763.929 Q25.9737 763.929 26.7086 764.531 Q27.4436 765.133 27.4436 766.169 Q27.4436 766.91 27.0211 767.425 Q26.6045 767.94 25.8579 768.125 Q26.7028 768.322 27.1716 768.895 Q27.6461 769.468 27.6461 770.295 Q27.6461 771.551 26.8764 772.222 Q26.1126 772.893 24.6832 772.893 Q23.2538 772.893 22.4841 772.222 Q21.7202 771.551 21.7202 770.295 Q21.7202 769.468 22.1948 768.895 Q22.6693 768.322 23.5142 768.125 M23.086 766.279 Q23.086 766.95 23.5026 767.326 Q23.9251 767.702 24.6832 767.702 Q25.4355 767.702 25.8579 767.326 Q26.2862 766.95 26.2862 766.279 Q26.2862 765.608 25.8579 765.231 Q25.4355 764.855 24.6832 764.855 Q23.9251 764.855 23.5026 765.231 Q23.086 765.608 23.086 766.279 Z\" fill=\"#000000\" fill-rule=\"evenodd\" fill-opacity=\"1\" /><path clip-path=\"url(#clip020)\" d=\"M 0 0 M15.9159 583.402 L17.8256 583.402 L17.8256 576.811 L15.748 577.227 L15.748 576.163 L17.814 575.746 L18.983 575.746 L18.983 583.402 L20.8927 583.402 L20.8927 584.386 L15.9159 584.386 L15.9159 583.402 Z\" fill=\"#000000\" fill-rule=\"evenodd\" fill-opacity=\"1\" /><path clip-path=\"url(#clip020)\" d=\"M 0 0 M24.66 576.516 Q23.7572 576.516 23.3001 577.407 Q22.8487 578.292 22.8487 580.075 Q22.8487 581.851 23.3001 582.742 Q23.7572 583.628 24.66 583.628 Q25.5686 583.628 26.02 582.742 Q26.4771 581.851 26.4771 580.075 Q26.4771 578.292 26.02 577.407 Q25.5686 576.516 24.66 576.516 M24.66 575.59 Q26.1126 575.59 26.8764 576.741 Q27.6461 577.887 27.6461 580.075 Q27.6461 582.256 26.8764 583.408 Q26.1126 584.554 24.66 584.554 Q23.2075 584.554 22.4378 583.408 Q21.6739 582.256 21.6739 580.075 Q21.6739 577.887 22.4378 576.741 Q23.2075 575.59 24.66 575.59 Z\" fill=\"#000000\" fill-rule=\"evenodd\" fill-opacity=\"1\" /><path clip-path=\"url(#clip020)\" d=\"M 0 0 M16.3152 395.062 L18.2249 395.062 L18.2249 388.471 L16.1473 388.888 L16.1473 387.823 L18.2133 387.406 L19.3823 387.406 L19.3823 395.062 L21.292 395.062 L21.292 396.046 L16.3152 396.046 L16.3152 395.062 Z\" fill=\"#000000\" fill-rule=\"evenodd\" fill-opacity=\"1\" /><path clip-path=\"url(#clip020)\" d=\"M 0 0 M23.5663 395.062 L27.6461 395.062 L27.6461 396.046 L22.16 396.046 L22.16 395.062 Q22.8255 394.374 23.9714 393.216 Q25.123 392.053 25.4181 391.717 Q25.9795 391.087 26.1994 390.653 Q26.4251 390.213 26.4251 389.79 Q26.4251 389.102 25.9389 388.668 Q25.4586 388.234 24.6832 388.234 Q24.1334 388.234 23.52 388.425 Q22.9123 388.616 22.2179 389.003 L22.2179 387.823 Q22.9239 387.539 23.5373 387.395 Q24.1508 387.25 24.66 387.25 Q26.0026 387.25 26.8012 387.921 Q27.5998 388.593 27.5998 389.715 Q27.5998 390.248 27.3973 390.728 Q27.2005 391.202 26.6739 391.851 Q26.5292 392.018 25.7538 392.823 Q24.9783 393.621 23.5663 395.062 Z\" fill=\"#000000\" fill-rule=\"evenodd\" fill-opacity=\"1\" /><polyline clip-path=\"url(#clip022)\" style=\"stroke:#009af9; stroke-width:1; stroke-opacity:1; fill:none\" points=\"\n",
       "  1150.18,1287.44 1210.12,1282.38 1264.54,1279.43 1312.54,1278.43 1353.37,1279.2 1386.36,1281.55 1410.98,1285.25 1426.84,1290.03 1433.68,1295.63 1431.39,1301.78 \n",
       "  1420.01,1308.17 1399.72,1314.52 1370.85,1320.52 1333.86,1325.89 1289.35,1330.36 1238.03,1333.65 1180.73,1335.52 1118.38,1335.75 1051.97,1334.14 982.567,1330.53 \n",
       "  911.299,1324.78 839.307,1316.8 767.75,1306.51 697.78,1293.89 630.522,1278.96 567.058,1261.76 508.41,1242.37 455.522,1220.91 409.243,1197.54 370.32,1172.45 \n",
       "  339.378,1145.83 316.915,1117.94 303.293,1089.02 298.73,1059.34 303.3,1029.2 316.931,998.887 339.401,968.693 370.35,938.914 409.28,909.836 455.564,881.735 \n",
       "  508.458,854.87 567.111,829.482 630.578,805.787 697.839,783.974 767.811,764.201 839.369,746.595 911.36,731.245 982.628,718.208 1052.02,707.499 1118.43,699.1 \n",
       "  1180.79,692.953 1238.08,688.965 1289.39,687.007 1333.9,686.918 1370.88,688.509 1399.74,691.56 1420.02,695.83 1431.39,701.059 1433.68,706.97 1426.83,713.275 \n",
       "  1410.96,719.681 1386.33,725.892 1353.34,731.616 1312.5,736.569 1264.49,740.478 1210.08,743.088 1150.13,744.166 1085.61,743.5 1017.57,740.91 947.096,736.246 \n",
       "  875.321,729.389 803.402,720.257 732.495,708.806 663.743,695.027 598.25,678.95 537.071,660.641 481.19,640.202 431.507,617.77 388.82,593.513 353.817,567.629 \n",
       "  327.061,540.343 308.982,511.901 299.871,482.569 299.875,452.626 308.993,422.361 327.08,392.07 353.844,362.047 388.854,332.583 431.547,303.96 481.236,276.446 \n",
       "  537.122,250.291 598.305,225.724 663.801,202.948 732.556,182.137 803.463,163.434 875.383,146.947 947.157,132.749 1017.63,120.876 1085.67,111.327 1150.18,104.063 \n",
       "  \n",
       "  \"/>\n",
       "<path clip-path=\"url(#clip020)\" d=\"\n",
       "M1438.03 96.8004 L1633.4 96.8004 L1633.4 66.5604 L1438.03 66.5604  Z\n",
       "  \" fill=\"#ffffff\" fill-rule=\"evenodd\" fill-opacity=\"1\"/>\n",
       "<polyline clip-path=\"url(#clip020)\" style=\"stroke:#000000; stroke-width:1; stroke-opacity:1; fill:none\" points=\"\n",
       "  1438.03,96.8004 1633.4,96.8004 1633.4,66.5604 1438.03,66.5604 1438.03,96.8004 \n",
       "  \"/>\n",
       "<polyline clip-path=\"url(#clip020)\" style=\"stroke:#009af9; stroke-width:1; stroke-opacity:1; fill:none\" points=\"\n",
       "  1456.3,81.6804 1565.86,81.6804 \n",
       "  \"/>\n",
       "<path clip-path=\"url(#clip020)\" d=\"M 0 0 M1587.59 86.6022 Q1587.14 87.7596 1586.71 88.1126 Q1586.28 88.4657 1585.56 88.4657 L1584.71 88.4657 L1584.71 87.5745 L1585.34 87.5745 Q1585.78 87.5745 1586.02 87.3661 Q1586.26 87.1578 1586.56 86.3823 L1586.75 85.8962 L1584.13 79.5189 L1585.25 79.5189 L1587.28 84.5884 L1589.31 79.5189 L1590.43 79.5189 L1587.59 86.6022 Z\" fill=\"#000000\" fill-rule=\"evenodd\" fill-opacity=\"1\" /><path clip-path=\"url(#clip020)\" d=\"M 0 0 M1591.9 85.0166 L1593.81 85.0166 L1593.81 78.4252 L1591.74 78.8419 L1591.74 77.7771 L1593.8 77.3604 L1594.97 77.3604 L1594.97 85.0166 L1596.88 85.0166 L1596.88 86.0004 L1591.9 86.0004 L1591.9 85.0166 Z\" fill=\"#000000\" fill-rule=\"evenodd\" fill-opacity=\"1\" /></svg>\n"
      ]
     },
     "execution_count": 65,
     "metadata": {},
     "output_type": "execute_result"
    }
   ],
   "source": [
    "r(t) = [sin(t), cos(t), t]\n",
    "plot(xs_ys(r, 0, 4pi)...,size=(1700,1700))"
   ]
  },
  {
   "cell_type": "code",
   "execution_count": 68,
   "metadata": {},
   "outputs": [
    {
     "ename": "LoadError",
     "evalue": "ArgumentError: hasproperty of NULL PyObject",
     "output_type": "error",
     "traceback": [
      "ArgumentError: hasproperty of NULL PyObject",
      "",
      "Stacktrace:",
      " [1] pyhasproperty(::PyCall.PyObject, ::String) at C:\\Users\\k_sego\\.julia\\packages\\PyCall\\BcTLp\\src\\PyCall.jl:359",
      " [2] hasproperty at C:\\Users\\k_sego\\.julia\\packages\\PyCall\\BcTLp\\src\\PyCall.jl:365 [inlined]",
      " [3] gca(; kws::Base.Iterators.Pairs{Symbol,String,Tuple{Symbol},NamedTuple{(:projection,),Tuple{String}}}) at C:\\Users\\k_sego\\.julia\\packages\\PyPlot\\XHEG0\\src\\PyPlot.jl:174",
      " [4] plot_surface(::Array{Float64,2}, ::Vararg{Array{Float64,2},N} where N; kws::Base.Iterators.Pairs{Union{},Union{},Tuple{},NamedTuple{(),Tuple{}}}) at C:\\Users\\k_sego\\.julia\\packages\\PyPlot\\XHEG0\\src\\plot3d.jl:61",
      " [5] plot_surface at C:\\Users\\k_sego\\.julia\\packages\\PyPlot\\XHEG0\\src\\plot3d.jl:60 [inlined]",
      " [6] #plot_surface#197 at C:\\Users\\k_sego\\.julia\\packages\\PyPlot\\XHEG0\\src\\PyPlot.jl:246 [inlined]",
      " [7] plot_surface(::StepRangeLen{Float64,Base.TwicePrecision{Float64},Base.TwicePrecision{Float64}}, ::StepRangeLen{Float64,Base.TwicePrecision{Float64},Base.TwicePrecision{Float64}}, ::Array{Float64,2}) at C:\\Users\\k_sego\\.julia\\packages\\PyPlot\\XHEG0\\src\\PyPlot.jl:245",
      " [8] top-level scope at In[68]:5",
      " [9] include_string(::Function, ::Module, ::String, ::String) at .\\loading.jl:1091"
     ]
    }
   ],
   "source": [
    "import PyPlot\n",
    "xs = ys = range(-2, stop=2, length=100)\n",
    "f(x,y) = 2 + x^2 + y^2\n",
    "zs = [f(x,y) for y in ys, x in xs]\n",
    "PyPlot.plot_surface(xs, ys, zs)\n",
    "PyPlot.contour3D(xs, ys, zs)\n",
    "ax = PyPlot.gca()\n",
    "ax.contour(xs, ys, zs, offset=0)"
   ]
  },
  {
   "cell_type": "code",
   "execution_count": null,
   "metadata": {},
   "outputs": [],
   "source": []
  }
 ],
 "metadata": {
  "kernelspec": {
   "display_name": "Julia 1.5.3",
   "language": "julia",
   "name": "julia-1.5"
  },
  "language_info": {
   "file_extension": ".jl",
   "mimetype": "application/julia",
   "name": "julia",
   "version": "1.5.3"
  },
  "nbTranslate": {
   "displayLangs": [
    "*"
   ],
   "hotkey": "alt-t",
   "langInMainMenu": true,
   "sourceLang": "en",
   "targetLang": "fr",
   "useGoogleTranslate": true
  },
  "toc": {
   "base_numbering": 1,
   "nav_menu": {},
   "number_sections": true,
   "sideBar": true,
   "skip_h1_title": false,
   "title_cell": "Table of Contents",
   "title_sidebar": "Contents",
   "toc_cell": false,
   "toc_position": {},
   "toc_section_display": true,
   "toc_window_display": false
  }
 },
 "nbformat": 4,
 "nbformat_minor": 4
}
