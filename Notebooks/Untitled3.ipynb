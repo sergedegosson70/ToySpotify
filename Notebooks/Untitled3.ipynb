{
 "cells": [
  {
   "cell_type": "code",
   "execution_count": 1,
   "metadata": {},
   "outputs": [],
   "source": [
    "import pandas as pd"
   ]
  },
  {
   "cell_type": "code",
   "execution_count": 2,
   "metadata": {},
   "outputs": [],
   "source": [
    "Spotify = pd.read_csv(r\"C:/Users/SDEGOSSONDEVARENNE/repos/SpotifyBlog/ToySpotify/Spotify/data.csv\")\n",
    "Spotify['artists'] = Spotify['artists'].map(lambda x: x.lstrip(\"\\'\\[\").rstrip(\"\\'\\]\"))\n",
    "Spotify['artists'] = Spotify['artists'].str.replace(r\"\\', \\'\", \",\")\n",
    "Spotify = Spotify.rename(columns = {'name':'Title'})"
   ]
  },
  {
   "cell_type": "code",
   "execution_count": 16,
   "metadata": {},
   "outputs": [],
   "source": [
    "from google_trans_new import google_translator  \n",
    "  \n",
    "translator = google_translator()  \n",
    "translate_text = translator.translate('''首先感谢我的父母他们对我的关爱\n",
    "每粉每一秒对我包容的心态\n",
    "感谢他们对我无微不至的培养\n",
    "让快乐与温馨陪伴我的成长\n",
    "我感谢我的老师对我的教导''',lang_tgt='en')  "
   ]
  },
  {
   "cell_type": "code",
   "execution_count": 21,
   "metadata": {},
   "outputs": [],
   "source": [
    "listtrasn = Spotify['Title'].unique()"
   ]
  },
  {
   "cell_type": "code",
   "execution_count": 32,
   "metadata": {},
   "outputs": [
    {
     "data": {
      "text/plain": [
       "array(['Singende Bataillone 1. Teil',\n",
       "       'Fantasiestücke, Op. 111: Più tosto lento',\n",
       "       'Chapter 1.18 - Zamek kaniowski', ...,\n",
       "       'Skechers (feat. Tyga) - Remix', 'Sweeter (feat. Terrace Martin)',\n",
       "       'How Would I Know'], dtype=object)"
      ]
     },
     "execution_count": 32,
     "metadata": {},
     "output_type": "execute_result"
    }
   ],
   "source": [
    "listtrasn "
   ]
  },
  {
   "cell_type": "code",
   "execution_count": null,
   "metadata": {},
   "outputs": [],
   "source": [
    "LANGT = []\n",
    "for lang in listtrasn:\n",
    "    try:\n",
    "        translate_text = translator.translate(lang,lang_tgt='en') \n",
    "    except:\n",
    "        translate_text = None\n",
    "    LANGT.append(translate_text)"
   ]
  },
  {
   "cell_type": "code",
   "execution_count": null,
   "metadata": {},
   "outputs": [],
   "source": [
    "LANGT"
   ]
  },
  {
   "cell_type": "code",
   "execution_count": 18,
   "metadata": {},
   "outputs": [],
   "source": [
    "import google_trans_new\n",
    "from google_trans_new import google_translator  \n",
    "  \n",
    "detector = google_translator()  \n",
    "detect_result = detector.detect(u'首先感谢我的父母他们对我的关爱\n",
    "每粉每一秒对我包容的心态\n",
    "感谢他们对我无微不至的培养\n",
    "让快乐与温馨陪伴我的成长\n",
    "我感谢我的老师对我的教导')"
   ]
  },
  {
   "cell_type": "code",
   "execution_count": 19,
   "metadata": {},
   "outputs": [
    {
     "data": {
      "text/plain": [
       "['zh-CN', 'chinese (simplified)']"
      ]
     },
     "execution_count": 19,
     "metadata": {},
     "output_type": "execute_result"
    }
   ],
   "source": [
    "detect_result"
   ]
  },
  {
   "cell_type": "code",
   "execution_count": null,
   "metadata": {},
   "outputs": [],
   "source": [
    "import sys\n",
    "import unicodedata\n",
    "from collections import defaultdict\n",
    "\n",
    "unicode_characters_per_category = defaultdict(list)\n",
    "for c in map(chr, range(sys.maxunicode + 1)):\n",
    "    unicode_characters_per_category[unicodedata.category(c)].append(c)\n",
    "\n",
    "all_categories = [\n",
    "    \"Cc\",  # Control 65\n",
    "    \"Cf\",  # Format  161\n",
    "    \"Co\",  # Private Use 0\n",
    "    \"Cs\",  # Surrrogate  0\n",
    "    \"Ll\",  # Lowercase Letter    2,151\n",
    "    \"Lm\",  # Modifier Letter 259\n",
    "    \"Lo\",  # Other Letter    121,414\n",
    "    \"Lt\",  # Titlecase Letter    31\n",
    "    \"Lu\",  # Uppercase Letter    1,788\n",
    "    \"Mc\",  # Spacing Mark    429\n",
    "    \"Me\",  # Enclosing Mark  13\n",
    "    \"Mn\",  # Nonspacing Mark 1,826\n",
    "    \"Nd\",  # Decimal Number  630\n",
    "    \"Nl\",  # Letter Number   236\n",
    "    \"No\",  # Other Number    888\n",
    "    \"Pc\",  # Connector Punctuation   10\n",
    "    \"Pd\",  # Dash Punctuation    24\n",
    "    \"Pe\",  # Close Punctuation   73\n",
    "    \"Pf\",  # Final Punctuation   10\n",
    "    \"Pi\",  # Initial Punctuation 12\n",
    "    \"Po\",  # Other Punctuation   588\n",
    "    \"Ps\",  # Open Punctuation    75\n",
    "    \"Sc\",  # Currency Symbol 62\n",
    "    \"Sk\",  # Modifier Symbol 121\n",
    "    \"Sm\",  # Math Symbol 948\n",
    "    \"So\",  # Other Symbol    6,160\n",
    "    \"Zl\",  # Line Separator  1\n",
    "    \"Zp\",  # Paragraph Separator 1\n",
    "    \"Zs\",  # Space Separator 17\n",
    "]\n",
    "\n",
    "from polyglot.text import Text\n",
    "\n",
    "error_cats = set()\n",
    "for cat in all_categories:\n",
    "    for char in unicode_characters_per_category[cat]:\n",
    "        try:\n",
    "            Text(char).words\n",
    "        except:\n",
    "            error_cats.add(cat)\n",
    "\n",
    "# all categories that errored\n",
    "print(error_cats)"
   ]
  }
 ],
 "metadata": {
  "kernelspec": {
   "display_name": "Python 3",
   "language": "python",
   "name": "python3"
  },
  "language_info": {
   "codemirror_mode": {
    "name": "ipython",
    "version": 3
   },
   "file_extension": ".py",
   "mimetype": "text/x-python",
   "name": "python",
   "nbconvert_exporter": "python",
   "pygments_lexer": "ipython3",
   "version": "3.6.9"
  }
 },
 "nbformat": 4,
 "nbformat_minor": 2
}
